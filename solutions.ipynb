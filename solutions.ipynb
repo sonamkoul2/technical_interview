{
 "cells": [
  {
   "cell_type": "markdown",
   "metadata": {},
   "source": [
    "\n",
    "## Question 1:\n",
    "- Given two strings s and t, determine whether some anagram of t is a substring of s. For example: if s = \"udacity\" and   t = \"ad\", then the function returns True. Your function definition should look like: question1(s, t) and return a boolean True or False.\n"
   ]
  },
  {
   "cell_type": "markdown",
   "metadata": {},
   "source": [
    "## input-output:\n",
    "- Input: String s, and string t\n",
    "- Output: True or False based on the validity of substring t with regard to String s\n",
    "\n",
    "### Test possible cases:\n",
    "\n",
    "- input s =\"udacity\", t = \"ad\" (valid case) should ouput True\n",
    "- input t or s as None\n",
    "- t does not contain characters found in s\n",
    "- s = \"udacity\", t = \"a\" - Single character input in t\n",
    "- t or s has special characters (numbers or symbols)\n",
    "- s = \"udacity\", t = \"uc\" - Invalid anagram. A word not in dictionary\n",
    "- t or s has special characters (numbers or symbols)\n",
    "\n",
    "### Brainstorming:\n",
    "\n",
    "- Compare characters in t and s if there are any overlaps\n",
    "- Search each character in t with regard to s\n",
    "\n",
    "\n"
   ]
  },
  {
   "cell_type": "markdown",
   "metadata": {},
   "source": [
    "### References\n",
    "- [How to check if a word is an English word in Python?](http://stackoverflow.com/questions/3788870/how-to-check-if-a-word-is-an-english-word-with-python)\n",
    "- [Counter](https://pymotw.com/2/collections/counter.html)\n",
    "- [Python remove all white space in a string](http://stackoverflow.com/questions/8270092/python-remove-all-whitespace-in-a-string)\n",
    "- [Quick way to test your python regular expressions](http://pythex.org/)\n",
    "- [Looking up words in a Dictionary using Python](http://www.velvetcache.org/2010/03/01/looking-up-words-in-a-dictionary-using-python)"
   ]
  },
  {
   "cell_type": "code",
   "execution_count": 1,
   "metadata": {
    "collapsed": false
   },
   "outputs": [],
   "source": [
    "from nltk.corpus import wordnet\n",
    "from collections import Counter\n",
    "import re\n",
    "\n",
    "def question1(s, t):\n",
    "    \n",
    "    # Verify for None input\n",
    "    if s == None or t == None:\n",
    "        return False\n",
    "    # Verity for single character in input t\n",
    "    if len(t) <= 1:\n",
    "        return False\n",
    "    \n",
    "    # Verify for special characters (numbers, symbols).\n",
    "    # Regex searches for any character except whitespace (\\s), comma (\\,) , period (\\.) and alpha ([a-zA-Z]).\n",
    "    if re.search('[^a-zA-Z*\\s*]', s) or re.search('[^a-zA-Z*\\s*]', t):\n",
    "        return False\n",
    "    \n",
    "    # Anagram checker\n",
    "    # Remove all whitespaces in strings and set all characters to lowercase\n",
    "    s = s.replace(\" \", \"\").lower()\n",
    "    t = t.replace(\" \", \"\").lower()\n",
    "\n",
    "    m = Counter(s)\n",
    "    n = Counter(t)\n",
    "    \n",
    "    # Finds intersection of Counter c and d (taking positive minimums) and compares if it still appears in d.\n",
    "    # Checks for a valid anagram against WordNet from NLTK\n",
    "    if m & n == n and wordnet.synsets(t):\n",
    "        return True\n",
    "    else:\n",
    "        return False\n"
   ]
  },
  {
   "cell_type": "markdown",
   "metadata": {},
   "source": [
    " Let's check the validity of question1(s, t) outputs for test cases or different inputs for s and t:"
   ]
  },
  {
   "cell_type": "code",
   "execution_count": 2,
   "metadata": {
    "collapsed": false
   },
   "outputs": [
    {
     "name": "stdout",
     "output_type": "stream",
     "text": [
      " **************** Question 1 ****************\n",
      "Test Case 1 - True\n",
      "Test Case 2 - False\n",
      "Test Case 3 - True\n",
      "Test Case 4 - False\n",
      "Test Case 5 - False\n",
      "Test Case 6 - False\n",
      "Test Case 7 - False\n"
     ]
    }
   ],
   "source": [
    "print \" **************** Question 1 ****************\"\n",
    "# input s ='udacity', t = 'ad' (valid case)\n",
    "# Should be True\n",
    "s = \"udacity\"; t = \"ad\"\n",
    "print \"Test Case 1 -\", question1(s, t)\n",
    "\n",
    "# t does not contain characters found in s\n",
    "# Should be False\n",
    "s = \"udacity\"; t = \"an\"\n",
    "print \"Test Case 2 -\", question1(s, t)\n",
    "\n",
    "# s = 'udacity', t = 'uy' - Invalid anagram. Not in dictionary\n",
    "# Should be False\n",
    "s = \"udacity\"; t = \"ac\"\n",
    "print \"Test Case 3 -\", question1(s, t)\n",
    "\n",
    "# characters of t should only be used once in s\n",
    "# Should be False\n",
    "s = \"udacity\"; t = \"uu\"\n",
    "print \"Test Case 4 -\", question1(s, t)\n",
    "\n",
    "# s = 'udacity', t = 'a' - Single character input in t\n",
    "# Should be False\n",
    "s = \"udacity\"; t = \"y\"\n",
    "print \"Test Case 5 -\", question1(s, t)\n",
    "\n",
    "# input t or s as None\n",
    "# Should be False\n",
    "s = \"udacity\"; t = None\n",
    "print \"Test Case 6 -\", question1(s, t)\n",
    "\n",
    "# t or s has special characters (numbers or symbols)\n",
    "# Should be False\n",
    "print \"Test Case 7 -\", question1(\"uda%city7\", \"c2\")"
   ]
  },
  {
   "cell_type": "markdown",
   "metadata": {},
   "source": [
    "## Question 2\n",
    "- Given a string a, find the longest palindromic substring contained in a.\n",
    "- Your function definition should look like question2(a), and return a string."
   ]
  },
  {
   "cell_type": "markdown",
   "metadata": {},
   "source": [
    " - Input: String a\n",
    " - Output: String - Longest palindromic substring of a\n",
    "\n",
    " ### Test cases:\n",
    " - input is None\n",
    " - input has no palindromes\n",
    " - input has a palindrome\n",
    " - input has two or more palindromes, but of equal length\n",
    " - input has an even palindrome\n",
    " - input has a mix of symbols, numbers and whitespaces, with a valid palindrome\n",
    " - input is a sentence palindrome, where punctuation, capitalization, and spaces are usually ignored\n",
    " \n",
    "\n",
    " ### Brainstorming:\n",
    " - Iterate over string a\n",
    " - For each character in string a, search one character to its adjacent left and right\n",
    " - If palindrome is found, store in memory and search two characters adjacent, three, etc until no more palindrome"
   ]
  },
  {
   "cell_type": "markdown",
   "metadata": {},
   "source": [
    "### Reference:\n",
    "- [How to check for palindrome using python logic](http://stackoverflow.com/questions/17331290/how-to-check-for-palindrome-using-python-logic)\n",
    "- [pythex is a quick way to test your Python regular expressions](http://pythex.org/)\n",
    "- [Python - Returning longest strings from list [duplicate]](http://stackoverflow.com/questions/16343849/python-returning-longest-strings-from-list)\n",
    "\n"
   ]
  },
  {
   "cell_type": "code",
   "execution_count": 3,
   "metadata": {
    "collapsed": false
   },
   "outputs": [],
   "source": [
    "import re\n",
    "\n",
    "def question2(a):\n",
    "    \n",
    "    # validity for None input r=l, k=m, i=n\n",
    "    if a == None:\n",
    "        return False\n",
    "    \n",
    "    # Remove punctuations [,.!':;?-], whitespaces (\\s) and sets all characters to lowercase.\n",
    "    a = re.sub(\"\\s*[,.!':;?-]*\", \"\", a).lower()\n",
    "    \n",
    "    # Check for even and/or odd palindromes\n",
    "    def palinCheck(window, l, m, n, a, min_valid, odd_ind):\n",
    "        #print window, r, k, i, a\n",
    "        # While the indices are within bounds of the string\n",
    "        while (n - m + 1) >= 0 and (n + m - 1) <= len(a):  \n",
    "            # Checks the reverse of the subset of the string with [::-1]\n",
    "            # Pass in min_valid = 2 for even palindromes and min_valid = 3 for odd\n",
    "            if str(window) == str(window[::-1]) and len(window) >= min_valid:\n",
    "                l.append(window)\n",
    "                m += 1 # Increments index to search for adjacent characters to the right and left\n",
    "                # Increase the window spread. odd_ind = 1 for odd palindromes\n",
    "                window = a[n - m: n + m + odd_ind]\n",
    "                palinCheck(window, l, m, n, a, min_valid, odd_ind) # Recursion until all possible palindromes are found\n",
    "            return l\n",
    "\n",
    "    l = [] # Stores any found palindrome\n",
    "    m = 1 # Counter for adjacent character search\n",
    "    \n",
    "    # Starts with index 1, Ends with index -1\n",
    "    # Even palindrome checker\n",
    "    for n in range(1, len(a) - 1):\n",
    "        # Min palindrome to search for is 2 characters in length\n",
    "        window = a[n - m: n + m]\n",
    "        palinCheck(window, l, m, n, a, min_valid=2, odd_ind=0)\n",
    "        \n",
    "    # Odd palindrome checker\n",
    "    for n in range(1, len(a) - 1):\n",
    "        # Min palindrome to search for is 3 characters in length\n",
    "        window = a[n - m: n + m + 1]\n",
    "        palinCheck(window, l, m, n, a, min_valid=3, odd_ind=1)\n",
    "        \n",
    "    # If there are no palindromes found, return False\n",
    "    # Else, return the longest palindrome(s)\n",
    "    if len(l) == 0:\n",
    "        return False\n",
    "    else:\n",
    "        lp = max(len(y) for y in l)\n",
    "        longest_palin = [x for x in l if len(x) == lp]\n",
    "        return longest_palin\n"
   ]
  },
  {
   "cell_type": "markdown",
   "metadata": {
    "collapsed": true
   },
   "source": [
    "call question2(a) with different a values:"
   ]
  },
  {
   "cell_type": "code",
   "execution_count": 4,
   "metadata": {
    "collapsed": false
   },
   "outputs": [
    {
     "name": "stdout",
     "output_type": "stream",
     "text": [
      " **************** Question 2 ****************\n",
      "Test Case A - False\n",
      "Test Case 2 - ['obo']\n",
      "Test Case 3 - ['civic']\n",
      "Test Case 4 - ['level']\n",
      "Test Case 5 - ['wasitacaroracatisaw']\n",
      "Test Case 6 - ['liveontimeemitnoevil']\n",
      "Test Case 7 - ['rotor', 'kayak']\n"
     ]
    }
   ],
   "source": [
    "print \" **************** Question 2 ****************\"\n",
    "# input is None\n",
    "# Should be False\n",
    "print \"Test Case A -\", question2(None)\n",
    "\n",
    "# input has no palindromes\n",
    "# Should be False\n",
    "print \"Test Case 2 -\", question2(\"robotics\")\n",
    "\n",
    "# input has a palindrome\n",
    "# Should be \"civic\"\n",
    "print \"Test Case 3 -\", question2(\"civic\")\n",
    "\n",
    "# input has a mix of symbols, numbers and whitespaces, with a valid palindrome\n",
    "# Should be \"level\"\n",
    "print \"Test Case 4 -\", question2(\"s3f nt!@ofhleveltglr%hn,n6s\")\n",
    "\n",
    "# input is a sentence palindrome, where punctuation, capitalization, and spaces are usually ignored\n",
    "# Should be \"wasitacaroracatisaw\"\n",
    "print \"Test Case 5 -\", question2(\"Was it a car or a cat I saw?\")\n",
    "\n",
    "# input has an even palindrome\n",
    "# Should be \"liveontimeemitnoevil\"\n",
    "print \"Test Case 6 -\", question2(\"Live on time, emit no evil\")\n",
    "\n",
    "# input has two or more palindromes, but of equal max length\n",
    "# Should be \"rotor\" and \"kayak\"\n",
    "print \"Test Case 7 -\", question2(\"rotorkayak\")"
   ]
  },
  {
   "cell_type": "markdown",
   "metadata": {},
   "source": [
    "## Question 3\n",
    "- Given an undirected graph G, find the minimum spanning tree within G. A minimum spanning tree connects all vertices in a graph with the smallest possible total weight of edges.\n",
    "- Your function should take in and return an adjacency list structured like this:\n",
    "- {'A': [('B', 2)],\n",
    " 'B': [('A', 2), ('C', 5)], \n",
    " 'C': [('B', 5)]}\n",
    "- Vertices are represented as unique strings. The function definition should be question3(G)"
   ]
  },
  {
   "cell_type": "markdown",
   "metadata": {},
   "source": [
    "- Input: Adjacency list of graph G\n",
    "- Output: Adjacency list - min spanning tree\n",
    "\n",
    "### Test cases:\n",
    " - input is None\n",
    " - input has a min spanning tree\n",
    " - graph is disconnected\n",
    "\n",
    "### Brainstorming:\n",
    " - Choose an arbitary vertex, v \n",
    " - Then, choose an edge that has smallest weight and grow the tree\n",
    " - Repeat until minimum spanning tree is obtained\n",
    " \n",
    "### Reference:\n",
    " - [Get the key coresponding to the minimum value within a dictionary](http://stackoverflow.com/questions/3282823/get-key-with-the-least-value-from-a-dictionary)\n",
    " - [stoimen's web log on Prim's Minimum Spanning Tree](http://www.stoimen.com/blog/2012/11/19/computer-algorithms-prims-minimum-spanning-tree/)"
   ]
  },
  {
   "cell_type": "markdown",
   "metadata": {
    "collapsed": true
   },
   "source": [
    "### The above adjacency list returned by the function means that:\n",
    "\n",
    "- The weight of edge between:\n",
    "- A and B is 2\n",
    "- B and A is 2\n",
    "- B and C is 5\n",
    "- C and B is 5\n",
    "- Therefore the edge weight between A and B is less than that of B and C in this particular graph \n",
    "\n"
   ]
  },
  {
   "cell_type": "code",
   "execution_count": 5,
   "metadata": {
    "collapsed": false
   },
   "outputs": [],
   "source": [
    "import numpy as np\n",
    "\n",
    "# Undirected graph\n",
    "G = {'A': [('B', 4), ('E', 3)],\n",
    "     'B': [('A', 4), ('C', 8), ('D', 2), ('E', 2)], \n",
    "     'C': [('B', 8), ('D', 1), ('E', 6)],\n",
    "     'D': [('B', 2), ('C', 1)],\n",
    "     'E': [('A', 3), ('B', 2), ('C', 6)]}\n",
    "\n",
    "'''\n",
    "G Graph Visualization\n",
    "\n",
    "A--4--B--8--C       \n",
    "|   / |    /|       \n",
    "3  2  2   1 |       \n",
    "| /   |  /  |        \n",
    " E     D    |       \n",
    " |          |       \n",
    " +----6-----+  \n",
    " \n",
    " '''\n",
    "\n",
    "# Disconnected graph\n",
    "DG = {'A': [('B', 1)],\n",
    "     'B': [('A', 1)], \n",
    "     'C': [('D', 5)],\n",
    "     'D': [('C', 5)]}\n",
    "\n",
    "\n",
    "def question3(gr):\n",
    "    # Reject None input\n",
    "    if gr == None:\n",
    "        return False\n",
    "    \n",
    "    # Initialize\n",
    "    PQ = {} # Priority queue\n",
    "    the_P = {} # Parent\n",
    "\n",
    "    # Select a vertex arbitrarily as the root\n",
    "    root = np.random.choice(gr.keys())\n",
    "    ##root = 'DG'\n",
    "    ##print \"Root vertex:\", root\n",
    "\n",
    "    # Set priority of each member in PQ to approx infinity\n",
    "    for v in gr:\n",
    "        PQ[v] = 1e9\n",
    "    # Set priority of starting vertex to 0\n",
    "    PQ[root] = 0\n",
    "    \n",
    "    # Set parent of starting vertex to null\n",
    "    the_P[root] = None\n",
    "    \n",
    "    ##print PQ\n",
    "    ##print the_P\n",
    "    \n",
    "    # Prim's algorithm\n",
    "    \n",
    "    while PQ:\n",
    "        # Get minimum from Q. u=(key, priority value)\n",
    "        u = min(PQ.items(), key=lambda x: x[1])\n",
    "        ##print \"u: \", u\n",
    "        # Initialize list to store neighboring vertices\n",
    "        temp = []\n",
    "        # Check all neighbor vertices to u\n",
    "        for v in gr[u[0]]:\n",
    "            ##print \"v: \", v\n",
    "            # If the vertex is found in PQ and its weight is less than the priority...\n",
    "            # v=(key, weight value)\n",
    "            if v[0] in PQ and v[1] < PQ[v[0]]:\n",
    "                temp.append(v)\n",
    "                # Add u as the parent vertex of v\n",
    "                ## the_P[u[0]] = [v]\n",
    "                the_P[u[0]] = temp\n",
    "                # And add the weight value as the new priority\n",
    "                PQ[v[0]] = v[1]\n",
    "                ##print \"the_P: \", the_P\n",
    "        # Remove u from PQ\n",
    "        PQ.pop(u[0])\n",
    "        ##print \"PQ new: \", PQ\n",
    "    return the_P\n",
    "        \n",
    "# print question3(DG) # graph disconnected\n",
    "# print question3(G) # undirected G\n",
    "\n"
   ]
  },
  {
   "cell_type": "markdown",
   "metadata": {},
   "source": [
    "### call question3(G) with different vertices and different edge weights"
   ]
  },
  {
   "cell_type": "code",
   "execution_count": 6,
   "metadata": {
    "collapsed": false
   },
   "outputs": [
    {
     "name": "stdout",
     "output_type": "stream",
     "text": [
      " **************** Question 3 ****************\n",
      "Test Case 1 - False\n",
      "Test Case 2 - {'A': [('B', 4), ('E', 3)], 'B': [('D', 2)], 'E': [('B', 2), ('C', 6)], 'D': [('C', 1)]}\n",
      "Test Case 3 - {'A': [('B', 1)], 'C': [('D', 5)]}\n"
     ]
    }
   ],
   "source": [
    "print \" **************** Question 3 ****************\"\n",
    "# input is None\n",
    "# Should be False\n",
    "print \"Test Case 1 -\", question3(None)\n",
    "\n",
    "# input has a min spanning tree\n",
    "print \"Test Case 2 -\", question3(G)\n",
    "\n",
    "# input graph is disconnected\n",
    "print \"Test Case 3 -\", question3(DG)"
   ]
  },
  {
   "cell_type": "markdown",
   "metadata": {},
   "source": [
    "## Question 4:\n",
    "- Find the least common ancestor between two nodes on a binary search tree. The least common ancestor is the farthest node from the root that is an ancestor of both nodes. For example, the root is a common ancestor of all nodes on the tree, but if both nodes are descendents of the root's left child, then that left child might be the lowest common ancestor. You can assume that both nodes are in the tree, and the tree itself adheres to all BST properties. The function definition should look like question4(T, r, n1, n2), where T is the tree represented as a matrix, where the index of the list is equal to the integer stored in that node and a 1 represents a child node, r is a non-negative integer representing the root, and n1 and n2 are non-negative integers representing the two nodes in no particular order. For example, one test case might be\n",
    "\n",
    "- question4([[0, 1, 0, 0, 0],\n",
    "           [0, 0, 0, 0, 0],\n",
    "           [0, 0, 0, 0, 0],\n",
    "           [1, 0, 0, 0, 1],\n",
    "           [0, 0, 0, 0, 0]],\n",
    "          3,\n",
    "          1,\n",
    "          4)\n",
    "- and the answer would be 3."
   ]
  },
  {
   "cell_type": "code",
   "execution_count": 7,
   "metadata": {
    "collapsed": false
   },
   "outputs": [
    {
     "data": {
      "text/plain": [
       "'\\nTree representation\\n    3\\n   /   0   4\\n /\\n1 \\n'"
      ]
     },
     "execution_count": 7,
     "metadata": {},
     "output_type": "execute_result"
    }
   ],
   "source": [
    "### T[i][j] = 1, where i is an ancestor to j\n",
    "\n",
    "'''\n",
    "Tree representation\n",
    "    3\n",
    "   / \\\n",
    "  0   4\n",
    " /\n",
    "1 \n",
    "'''"
   ]
  },
  {
   "cell_type": "markdown",
   "metadata": {},
   "source": [
    "- Input: Matrix of BST, root node, node 1, node 2\n",
    "- Output: (Integer) least common ancestor of both nodes\n",
    "\n",
    "### Test cases:\n",
    " - input is None\n",
    " - input is not a valid matrix\n",
    " - input has no LCA\n",
    " - input has LCA\n",
    "\n",
    "### Brainstorming:\n",
    " - Create BST from matrix, via insertion\n",
    " - Search for LCA using single traversal\n",
    "\n",
    "### Reference:\n",
    "- [Exploring Algorithm: Lowest Common Ancestor of a Binary Tree](http://blog.rdtr.net/post/algorithm/algorithm_tree_lowest_common_ancestor_of_a_binary_tree/)\n",
    "- [Lowest Common Ancestor in a Binary Tree](http://www.geeksforgeeks.org/lowest-common-ancestor-binary-tree-set-1/)\n",
    "- [Yu's coding Garden: Lowest Common Ancestor of a Binary Search Tree](http://yucoding.blogspot.my/2016/04/leetcode-question-lowest-common.html)\n",
    "- [Build binary tree from ancestor matrics](http://www.ritambhara.in/build-binary-tree-from-ancestor-matrics/)"
   ]
  },
  {
   "cell_type": "code",
   "execution_count": 8,
   "metadata": {
    "collapsed": true
   },
   "outputs": [],
   "source": [
    "# Balanced tree\n",
    "K = [[0, 0, 0, 0, 0, 0, 0],\n",
    "    [0, 0, 0, 0, 0, 0, 0],\n",
    "    [1, 1, 0, 0, 0, 0, 0],\n",
    "    [0, 0, 1, 0, 0, 1, 0],\n",
    "    [0, 0, 0, 0, 0, 0, 0],\n",
    "    [0, 0, 0, 0, 1, 0, 1],\n",
    "    [0, 0, 0, 0, 0, 0, 0]]\n",
    "\n",
    "'''\n",
    "K tree visualization\n",
    "     3\n",
    "   /   \\\n",
    "  2     5\n",
    " / \\   / \\\n",
    "0   1 4   6\n",
    "'''\n",
    "# Invalid tree with values other than 0 or 1\n",
    "J = [[0, 1, 0, 0, -1],\n",
    "    [0, 0, 0, 0, 0],\n",
    "    [0, 0, 0, 0, -1],\n",
    "    [1, 0, 0, 0, 0],\n",
    "    [0, 0, 0, 0, 2]]\n",
    "\n",
    "# Lowest Common Ancestor\n",
    "def question4(T, r, n1, n2):\n",
    "    # Handle None input\n",
    "    if T == None or r == None or n1 == None or n2 == None:\n",
    "        return \"None input entered.\"\n",
    "    \n",
    "    # Construct dict of {node: parent}\n",
    "    node_parent_map = {}\n",
    "    for i in range(len(T)):\n",
    "        for j in range(len(T)):\n",
    "            # Handle invalid matrix\n",
    "            if T[i][j] < 0 or T[i][j] > 1:\n",
    "                return \"Invalid matrix entered.\"\n",
    "            # Add key:value pair if a node-parent relationship exists\n",
    "            # T[i][j] == 1, where i is an ancestor to j\n",
    "            elif T[i][j] == 1:\n",
    "                node_parent_map[j] = i\n",
    "    \n",
    "    # Helper to find child nodes in a BST\n",
    "    def find_child_node(node_parent_map, current):\n",
    "        temp = []\n",
    "        for node, parent in node_parent_map.iteritems():\n",
    "            if parent == current:\n",
    "                temp.append((node, parent))\n",
    "        return temp\n",
    "\n",
    "    # Traverse tree from root node\n",
    "    # Initialize current node as the root node \n",
    "    # and two null variables (nt1, nt2) as checks for the respective target nodes (n1, n2)\n",
    "    current = r\n",
    "    nt1 = None\n",
    "    nt2 = None\n",
    "    # While the checks are not equal to the target nodes\n",
    "    while nt1 != n1 and nt2 != n2:\n",
    "        # Returns LCA when the target nodes are in both left and right subtrees\n",
    "        if n1 < current and n2 > current:\n",
    "            nt1 = n1\n",
    "            nt2 = n2\n",
    "            return current\n",
    "        # If the target nodes are in the left subtree...\n",
    "        elif n1 < current and n2 < current:\n",
    "            # Finds all child nodes of the current node\n",
    "            temp = find_child_node(node_parent_map, current)\n",
    "            # Check if LCA is found\n",
    "            if len(temp) == 0:\n",
    "                return \"No LCA found within specified root.\"\n",
    "            elif temp[0][0] == n1 and temp[1][0] == n2:\n",
    "                nt1 = n1\n",
    "                nt2 = n2\n",
    "                return current\n",
    "            else:\n",
    "                # Assigns current node to left child node\n",
    "                current = temp[0][0]\n",
    "        # If the target nodes are in the right subtree...\n",
    "        elif n1 > current and n2 > current:\n",
    "            # Finds all child nodes of the current node\n",
    "            temp = find_child_node(node_parent_map, current)\n",
    "            # Check if LCA is found\n",
    "            if len(temp) == 0:\n",
    "                return \"No LCA found within specified root.\"\n",
    "            elif temp[0][0] == n1 and temp[1][0] == n2:\n",
    "                nt1 = n1\n",
    "                nt2 = n2\n",
    "                return current\n",
    "            else:\n",
    "                # Assigns current node to right child node\n",
    "                current = temp[1][0]\n",
    "        else:\n",
    "            return None"
   ]
  },
  {
   "cell_type": "markdown",
   "metadata": {},
   "source": [
    "### call question4(T, r, n1, n2) with different input cases:"
   ]
  },
  {
   "cell_type": "code",
   "execution_count": 9,
   "metadata": {
    "collapsed": false
   },
   "outputs": [
    {
     "name": "stdout",
     "output_type": "stream",
     "text": [
      " **************** Question 4 ****************\n",
      "Test Case 1 - None input entered.\n",
      "Test Case 2 - Invalid matrix entered.\n",
      "Test Case 3 - No LCA found within specified root.\n",
      "Test Case 4 - 2\n"
     ]
    }
   ],
   "source": [
    "print \" **************** Question 4 ****************\"\n",
    "# input is None\n",
    "# Should be \"None input entered.\"\n",
    "print \"Test Case 1 -\", question4(None, 3, 1, 4)\n",
    "\n",
    "# input is an invalid matrix\n",
    "# Should be \"Invalid matrix entered.\"\n",
    "print \"Test Case 2 -\", question4(J, 3, 1, 4)\n",
    "\n",
    "# input has no LCA\n",
    "# Should be \"No LCA found with specified root.\"\n",
    "print \"Test Case 3 -\", question4(K, 6, 1, 4)\n",
    "\n",
    "# input has a LCA\n",
    "# Should be \"2\"\n",
    "print \"Test Case 4 -\", question4(K, 3, 0, 1)"
   ]
  },
  {
   "cell_type": "markdown",
   "metadata": {},
   "source": [
    "## Question 5\n",
    "- Find the element in a singly linked list that's m elements from the end. For example, if a linked list has 5 elements, the 3rd element from the end is the 3rd element. The function definition should look like question5(ll, m), where ll is the first node of a linked list and m is the \"mth number from the end\". You should copy/paste the Node class below to use as a representation of a node in the linked list. Return the value of the node at that position.\n",
    "- class Node(object):\n",
    "  - def __init__(self, data):\n",
    "    - self.data = data\n",
    "    - self.next = None"
   ]
  },
  {
   "cell_type": "markdown",
   "metadata": {},
   "source": [
    "- Input: Singly linked list and integer m (m items from the end of the list)\n",
    "- Output: (Integer/Float/Char) Data element m\n",
    "- \n",
    "## Test cases:\n",
    " - input is None\n",
    " - input is a valid singly linked list\n",
    " - input m is not within list\n",
    " \n",
    " \n",
    "\n",
    "## Brainstorming:\n",
    " - Create linked list class\n",
    " - Add elements to linked list\n",
    " - Search elements in linked list forward\n",
    " - Calculate length of list\n",
    " - Use this calculation to find the reverse position from the end of the list\n",
    " \n",
    " \n",
    "## Reference:\n",
    "\n",
    "- [Implementing a Singly Linked List in Python](https://www.codefellows.org/blog/implementing-a-singly-linked-list-in-python/)\n"
   ]
  },
  {
   "cell_type": "code",
   "execution_count": 1,
   "metadata": {
    "collapsed": false
   },
   "outputs": [
    {
     "name": "stdout",
     "output_type": "stream",
     "text": [
      "Test Position: 3\n",
      "Test Position: 1\n"
     ]
    }
   ],
   "source": [
    "# Indivisual node class for linked list\n",
    "class Node(object):\n",
    "    def __init__(self, data):\n",
    "        self.data = data\n",
    "        self.next = None\n",
    "\n",
    "# Linked list class\n",
    "class LinkedList(object):\n",
    "    def __init__(self, head=None):\n",
    "        self.head = head\n",
    "    \n",
    "    def get_size(self):\n",
    "        # Initialize head as starting node\n",
    "        # and length = 0\n",
    "        current = self.head\n",
    "        length = 0\n",
    "        # Traverse through next nodes until the end and add 1 to the length each time\n",
    "        while current:\n",
    "            length += 1\n",
    "            current = current.next\n",
    "        return length\n",
    "   \n",
    "    def append(self, new_node):\n",
    "        current = self.head\n",
    "        # If head node is present...\n",
    "        if self.head:\n",
    "            while current.next:\n",
    "                # Cycle through the next nodes\n",
    "                current = current.next\n",
    "            # And append new node to end of list\n",
    "            current.next = new_node\n",
    "        else:\n",
    "            # Add node as the head\n",
    "            self.head = new_node\n",
    "    \n",
    "    def get_position(self, position):\n",
    "        counter = 1\n",
    "        current = self.head\n",
    "        # Handle invalid position\n",
    "        if position < 1:\n",
    "            return None\n",
    "        while current and counter <= position:\n",
    "            # Returns node if position matches with counter\n",
    "            if counter == position:\n",
    "                return current\n",
    "            # Cycle through next nodes\n",
    "            current = current.next\n",
    "            counter += 1\n",
    "        # If position of node is not found return None\n",
    "        return None\n",
    "    \n",
    "    def get_position_reverse(self, position, size):\n",
    "        counter = 1\n",
    "        current = self.head\n",
    "        # Calculates the position integer from total length of list\n",
    "        # Then, search through list forward until position is found\n",
    "        position = size - position\n",
    "        if position < 1:\n",
    "            return None\n",
    "        while current and counter <= position:\n",
    "            if counter == position:\n",
    "                return current\n",
    "            current = current.next\n",
    "            counter += 1\n",
    "        return None\n",
    "        \n",
    "# Set up nodes\n",
    "n1 = Node(1)\n",
    "n2 = Node(2)\n",
    "n3 = Node(3)\n",
    "n4 = Node(4)\n",
    "n5 = Node(5)\n",
    "\n",
    "# Set up Linked List\n",
    "# 1 -> 2 -> 3 -> 4 -> 5\n",
    "linkl = LinkedList(n1)\n",
    "linkl.append(n2)\n",
    "linkl.append(n3)\n",
    "linkl.append(n4)\n",
    "linkl.append(n5)\n",
    "\n",
    "# Test out linked list\n",
    "# Should be 3\n",
    "print \"Test Position:\", linkl.get_position(3).data\n",
    "# Should be 1\n",
    "print \"Test Position:\", linkl.head.data\n",
    "\n",
    "# Initialize empty list for Test Case 4\n",
    "link2 = LinkedList()\n",
    "\n",
    "def question5(ll, m):\n",
    "    # Handle None input\n",
    "    if ll == None or m == None:\n",
    "        return \"None input entered.\"\n",
    "    # Handle empty list\n",
    "    if ll.get_size() == 0:\n",
    "        return \"Linked list is empty.\"\n",
    "    # Get length of linked list\n",
    "    size = ll.get_size()\n",
    "    # Handle None output\n",
    "    if ll.get_position_reverse(m, size) == None:\n",
    "        return \"No position found.\"\n",
    "    else:\n",
    "        # Get node position from end of list\n",
    "        node_val = ll.get_position_reverse(m, size).data\n",
    "        return node_val"
   ]
  },
  {
   "cell_type": "markdown",
   "metadata": {},
   "source": [
    "### call  question5(ll, m) with test cases:"
   ]
  },
  {
   "cell_type": "code",
   "execution_count": 11,
   "metadata": {
    "collapsed": false
   },
   "outputs": [
    {
     "name": "stdout",
     "output_type": "stream",
     "text": [
      " **************** Question 5 ****************\n",
      "Test Case 1 - None input entered.\n",
      "Test Case 2 - 4\n",
      "Test Case 3 - No position found.\n",
      "Test Case 4 - Linked list is empty.\n"
     ]
    }
   ],
   "source": [
    "print \" **************** Question 5 ****************\"\n",
    "# input is None\n",
    "# Should be \"None input entered.\"\n",
    "print \"Test Case 1 -\", question5(None, None)\n",
    "\n",
    "# input is a valid singly linked list\n",
    "# Should be 4\n",
    "# linkl: 1 -> 2 -> 3 -> 4 -> 5\n",
    "# 1 node from the end = node 4\n",
    "print \"Test Case 2 -\", question5(linkl, 1)\n",
    "\n",
    "# input m is not within list\n",
    "# Should be \"No position found.\"\n",
    "print \"Test Case 3 -\", question5(linkl, 8)\n",
    "\n",
    "# input ll is an empty list\n",
    "# Should be \"Linked list is empty.\"\n",
    "print \"Test Case 4 -\", question5(link2, 1)"
   ]
  }
 ],
 "metadata": {
  "anaconda-cloud": {},
  "kernelspec": {
   "display_name": "Python [Root]",
   "language": "python",
   "name": "Python [Root]"
  },
  "language_info": {
   "codemirror_mode": {
    "name": "ipython",
    "version": 2
   },
   "file_extension": ".py",
   "mimetype": "text/x-python",
   "name": "python",
   "nbconvert_exporter": "python",
   "pygments_lexer": "ipython2",
   "version": "2.7.12"
  }
 },
 "nbformat": 4,
 "nbformat_minor": 0
}
